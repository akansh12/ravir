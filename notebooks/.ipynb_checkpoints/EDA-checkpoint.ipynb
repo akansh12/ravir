{
 "cells": [
  {
   "cell_type": "code",
   "execution_count": 2,
   "id": "57ce987c",
   "metadata": {},
   "outputs": [],
   "source": [
    "import numpy as np\n",
    "import os\n",
    "from PIL.Image import Image\n",
    "import matplotlib.pyplot as plt\n",
    "from pathlib import Path"
   ]
  },
  {
   "cell_type": "code",
   "execution_count": 3,
   "id": "ecf37ca7",
   "metadata": {},
   "outputs": [],
   "source": [
    "path2train_images = Path(\"/scratch/scratch6/akansh12/ravir_data/RAVIR Dataset/train/training_images/\")\n",
    "path2train_mask = Path(\"/scratch/scratch6/akansh12/ravir_data/RAVIR Dataset/train/training_masks/\")\n",
    "path2test_images = Path(\"/scratch/scratch6/akansh12/ravir_data/RAVIR Dataset/test/\")"
   ]
  },
  {
   "cell_type": "code",
   "execution_count": 12,
   "id": "8c43ebb0",
   "metadata": {},
   "outputs": [
    {
     "name": "stdout",
     "output_type": "stream",
     "text": [
      "Number of train Images: 23\n",
      "Number of test Images: 19\n"
     ]
    }
   ],
   "source": [
    "print(\"Number of train Images:\", len(os.listdir(path2train_images)))\n",
    "print(\"Number of test Images:\", len(os.listdir(path2test_images)))\n",
    "assert len(os.listdir(path2train_images)) == len(os.listdir(path2train_mask))"
   ]
  },
  {
   "cell_type": "code",
   "execution_count": 9,
   "id": "867d7e8e",
   "metadata": {},
   "outputs": [],
   "source": []
  },
  {
   "cell_type": "code",
   "execution_count": null,
   "id": "f494df39",
   "metadata": {},
   "outputs": [],
   "source": []
  }
 ],
 "metadata": {
  "kernelspec": {
   "display_name": "env",
   "language": "python",
   "name": "env"
  },
  "language_info": {
   "codemirror_mode": {
    "name": "ipython",
    "version": 3
   },
   "file_extension": ".py",
   "mimetype": "text/x-python",
   "name": "python",
   "nbconvert_exporter": "python",
   "pygments_lexer": "ipython3",
   "version": "3.7.6"
  }
 },
 "nbformat": 4,
 "nbformat_minor": 5
}
